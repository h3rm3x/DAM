{
 "cells": [
  {
   "cell_type": "markdown",
   "id": "fe418184",
   "metadata": {},
   "source": [
    "Atributos de arrays numpy"
   ]
  },
  {
   "cell_type": "code",
   "execution_count": 2,
   "id": "091c4c73",
   "metadata": {},
   "outputs": [],
   "source": [
    "import numpy as np\n",
    "np.random.seed(0)  # para reproducibilidad\n",
    "\n",
    "x1 = np.random.randint(10, size=6)  # array 1D \n",
    "x2 = np.random.randint(10, size=(3, 4))  # array 2D \n",
    "x3 = np.random.randint(10, size=(3, 4, 5))  # array 3D "
   ]
  },
  {
   "cell_type": "markdown",
   "id": "54cdb9d0",
   "metadata": {},
   "source": [
    "cada array tiene atributos: ndim(numero de dimensiones), shape (tamaño de cada dimension) y size( tamaño total del array)"
   ]
  },
  {
   "cell_type": "code",
   "execution_count": 3,
   "id": "b2902a79",
   "metadata": {},
   "outputs": [
    {
     "name": "stdout",
     "output_type": "stream",
     "text": [
      "x3 ndim:  3\n",
      "x3 shape: (3, 4, 5)\n",
      "x3 size:  60\n"
     ]
    }
   ],
   "source": [
    "print(\"x3 ndim: \", x3.ndim)\n",
    "print(\"x3 shape:\", x3.shape)\n",
    "print(\"x3 size: \", x3.size)"
   ]
  }
 ],
 "metadata": {
  "kernelspec": {
   "display_name": "Python 3",
   "language": "python",
   "name": "python3"
  },
  "language_info": {
   "codemirror_mode": {
    "name": "ipython",
    "version": 3
   },
   "file_extension": ".py",
   "mimetype": "text/x-python",
   "name": "python",
   "nbconvert_exporter": "python",
   "pygments_lexer": "ipython3",
   "version": "3.13.4"
  }
 },
 "nbformat": 4,
 "nbformat_minor": 5
}
