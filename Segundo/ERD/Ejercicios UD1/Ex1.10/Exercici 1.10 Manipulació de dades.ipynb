{
 "cells": [
  {
   "cell_type": "markdown",
   "metadata": {},
   "source": [
    "# Anàlisi de vendes per categoria i any"
   ]
  },
  {
   "cell_type": "code",
   "execution_count": null,
   "metadata": {
    "collapsed": true
   },
   "outputs": [],
   "source": [
    "# Importa pandas com a pd i numpy com a np. \n",
    "# Crea un DataFrame anomenat sales_df amb les següents dades:\n",
    "\n",
    "#| category    | product    | year | units_sold | price_per_unit |\n",
    "#| ----------- | ---------- | ---- | ---------- | -------------- |\n",
    "#| Electronics | Laptop     | 2020 | 150        | 900            |\n",
    "#| Electronics | Smartphone | 2021 | 300        | 700            |\n",
    "#| Furniture   | Chair      | 2020 | 500        | 50             |\n",
    "#| Furniture   | Table      | 2021 | 200        | 120            |\n",
    "#| Clothing    | T-shirt    | 2020 | 800        | 20             |\n",
    "#| Clothing    | Jacket     | 2021 | 400        | 80             |\n",
    "#| Electronics | Tablet     | 2020 | 250        | 400            |\n",
    "#| Furniture   | Sofa       | 2021 | 150        | 500            |\n",
    "#| Clothing    | Shoes      | 2021 | 300        | 100            |\n"
   ]
  },
  {
   "cell_type": "code",
   "execution_count": null,
   "metadata": {},
   "outputs": [
    {
     "name": "stdout",
     "output_type": "stream",
     "text": [
      "      category     product  year  units_sold  price_per_unit\n",
      "0  Electronics      Laptop  2020         150             900\n",
      "1  Electronics  Smartphone  2021         300             700\n",
      "2    Furniture       Chair  2020         500              50\n",
      "3    Furniture       Table  2021         200             120\n",
      "4     Clothing     T-shirt  2020         800              20\n",
      "5     Clothing      Jacket  2021         400              80\n",
      "6  Electronics      Tablet  2020         250             400\n",
      "7    Furniture        Sofa  2021         150             500\n",
      "8     Clothing       Shoes  2021         300             100\n"
     ]
    }
   ],
   "source": []
  },
  {
   "cell_type": "code",
   "execution_count": null,
   "metadata": {
    "collapsed": true
   },
   "outputs": [],
   "source": [
    "# Càlcul del total de vendes\n",
    "\n",
    "# Afegeix una nova columna anomenada total_sales, que sigui el producte de units_sold i price_per_unit.\n",
    "\n"
   ]
  },
  {
   "cell_type": "code",
   "execution_count": null,
   "metadata": {},
   "outputs": [
    {
     "name": "stdout",
     "output_type": "stream",
     "text": [
      "\n",
      "DataFrame amb total_sales:\n",
      "      category     product  year  units_sold  price_per_unit  total_sales\n",
      "0  Electronics      Laptop  2020         150             900       135000\n",
      "1  Electronics  Smartphone  2021         300             700       210000\n",
      "2    Furniture       Chair  2020         500              50        25000\n",
      "3    Furniture       Table  2021         200             120        24000\n",
      "4     Clothing     T-shirt  2020         800              20        16000\n",
      "5     Clothing      Jacket  2021         400              80        32000\n",
      "6  Electronics      Tablet  2020         250             400       100000\n",
      "7    Furniture        Sofa  2021         150             500        75000\n",
      "8     Clothing       Shoes  2021         300             100        30000\n"
     ]
    }
   ],
   "source": []
  },
  {
   "cell_type": "code",
   "execution_count": null,
   "metadata": {},
   "outputs": [],
   "source": [
    "# Agregació bàsica\n",
    "\n",
    "# Calcula la mitjana de vendes (total_sales) per categoria utilitzant groupby().\n",
    "\n"
   ]
  },
  {
   "cell_type": "code",
   "execution_count": null,
   "metadata": {},
   "outputs": [
    {
     "name": "stdout",
     "output_type": "stream",
     "text": [
      "\n",
      "Mitjana de vendes per categoria:\n",
      "category\n",
      "Clothing        26000.000000\n",
      "Electronics    148333.333333\n",
      "Furniture       41333.333333\n",
      "Name: total_sales, dtype: float64\n"
     ]
    }
   ],
   "source": []
  },
  {
   "cell_type": "code",
   "execution_count": null,
   "metadata": {},
   "outputs": [],
   "source": [
    "# Agregació múltiple\n",
    "\n",
    "# Calcula, per cada categoria, el nombre total de productes, la mitjana de preu per unitat i la suma total de vendes."
   ]
  },
  {
   "cell_type": "code",
   "execution_count": null,
   "metadata": {},
   "outputs": [
    {
     "name": "stdout",
     "output_type": "stream",
     "text": [
      "\n",
      "Agregació múltiple per categoria:\n",
      "             product  price_per_unit  total_sales\n",
      "category                                         \n",
      "Clothing           3       66.666667        78000\n",
      "Electronics        3      666.666667       445000\n",
      "Furniture          3      223.333333       124000\n"
     ]
    }
   ],
   "source": [
    "\n"
   ]
  },
  {
   "cell_type": "code",
   "execution_count": null,
   "metadata": {},
   "outputs": [],
   "source": [
    "# Agrupació per múltiples columnes\n",
    "\n",
    "# Agrupa les dades per category i year, i mostra el total de vendes per cada combinació."
   ]
  },
  {
   "cell_type": "code",
   "execution_count": null,
   "metadata": {},
   "outputs": [
    {
     "name": "stdout",
     "output_type": "stream",
     "text": [
      "\n",
      "Total de vendes per categoria i any:\n",
      "category     year\n",
      "Clothing     2020     16000\n",
      "             2021     62000\n",
      "Electronics  2020    235000\n",
      "             2021    210000\n",
      "Furniture    2020     25000\n",
      "             2021     99000\n",
      "Name: total_sales, dtype: int64\n"
     ]
    }
   ],
   "source": [
    "\n"
   ]
  },
  {
   "cell_type": "code",
   "execution_count": null,
   "metadata": {},
   "outputs": [],
   "source": [
    "# Filtratge de grups\n",
    "\n",
    "# Filtra i mostra només les categories que tinguin una mitjana de vendes superior a 30.000."
   ]
  },
  {
   "cell_type": "code",
   "execution_count": null,
   "metadata": {},
   "outputs": [
    {
     "name": "stdout",
     "output_type": "stream",
     "text": [
      "\n",
      "Categories amb mitjana de vendes > 30.000:\n",
      "      category     product  year  units_sold  price_per_unit  total_sales\n",
      "0  Electronics      Laptop  2020         150             900       135000\n",
      "1  Electronics  Smartphone  2021         300             700       210000\n",
      "2    Furniture       Chair  2020         500              50        25000\n",
      "3    Furniture       Table  2021         200             120        24000\n",
      "6  Electronics      Tablet  2020         250             400       100000\n",
      "7    Furniture        Sofa  2021         150             500        75000\n"
     ]
    }
   ],
   "source": [
    "\n"
   ]
  },
  {
   "cell_type": "code",
   "execution_count": null,
   "metadata": {},
   "outputs": [],
   "source": [
    "# Transformació\n",
    "\n",
    "# Resta la mitjana de vendes de cada categoria a les seves files corresponents (centrant les dades per categoria)."
   ]
  },
  {
   "cell_type": "code",
   "execution_count": null,
   "metadata": {},
   "outputs": [
    {
     "name": "stdout",
     "output_type": "stream",
     "text": [
      "\n",
      "Vendes centrades per categoria:\n",
      "      category     product  year  units_sold  price_per_unit  total_sales  \\\n",
      "0  Electronics      Laptop  2020         150             900       135000   \n",
      "1  Electronics  Smartphone  2021         300             700       210000   \n",
      "2    Furniture       Chair  2020         500              50        25000   \n",
      "3    Furniture       Table  2021         200             120        24000   \n",
      "4     Clothing     T-shirt  2020         800              20        16000   \n",
      "5     Clothing      Jacket  2021         400              80        32000   \n",
      "6  Electronics      Tablet  2020         250             400       100000   \n",
      "7    Furniture        Sofa  2021         150             500        75000   \n",
      "8     Clothing       Shoes  2021         300             100        30000   \n",
      "\n",
      "   centered_sales  \n",
      "0   -13333.333333  \n",
      "1    61666.666667  \n",
      "2   -16333.333333  \n",
      "3   -17333.333333  \n",
      "4   -10000.000000  \n",
      "5     6000.000000  \n",
      "6   -48333.333333  \n",
      "7    33666.666667  \n",
      "8     4000.000000  \n"
     ]
    }
   ],
   "source": [
    "\n"
   ]
  },
  {
   "cell_type": "code",
   "execution_count": null,
   "metadata": {},
   "outputs": [],
   "source": [
    "# Aplicació de funció personalitzada\n",
    "\n",
    "# Crea una funció anomenada normalize_sales(x) que divideixi les vendes totals de cada producte pel màxim de vendes del grup (categoria).\n",
    "# Aplica aquesta funció a sales_df utilitzant groupby('category').apply().\n",
    "\n"
   ]
  },
  {
   "cell_type": "code",
   "execution_count": null,
   "metadata": {},
   "outputs": [
    {
     "name": "stdout",
     "output_type": "stream",
     "text": [
      "\n",
      "Vendes normalitzades dins de cada categoria:\n",
      "               total_sales     product  year  price_per_unit  units_sold  \\\n",
      "category                                                                   \n",
      "Clothing    4        16000     T-shirt  2020              20         800   \n",
      "            5        32000      Jacket  2021              80         400   \n",
      "            8        30000       Shoes  2021             100         300   \n",
      "Electronics 0       135000      Laptop  2020             900         150   \n",
      "            1       210000  Smartphone  2021             700         300   \n",
      "            6       100000      Tablet  2020             400         250   \n",
      "Furniture   2        25000       Chair  2020              50         500   \n",
      "            3        24000       Table  2021             120         200   \n",
      "            7        75000        Sofa  2021             500         150   \n",
      "\n",
      "               normalized_sales  \n",
      "category                         \n",
      "Clothing    4          0.500000  \n",
      "            5          1.000000  \n",
      "            8          0.937500  \n",
      "Electronics 0          0.642857  \n",
      "            1          1.000000  \n",
      "            6          0.476190  \n",
      "Furniture   2          0.333333  \n",
      "            3          0.320000  \n",
      "            7          1.000000  \n"
     ]
    }
   ],
   "source": [
    "\n"
   ]
  }
 ],
 "metadata": {
  "kernelspec": {
   "display_name": "Python 3",
   "language": "python",
   "name": "python3"
  },
  "language_info": {
   "codemirror_mode": {
    "name": "ipython",
    "version": 3
   },
   "file_extension": ".py",
   "mimetype": "text/x-python",
   "name": "python",
   "nbconvert_exporter": "python",
   "pygments_lexer": "ipython3",
   "version": "3.13.7"
  }
 },
 "nbformat": 4,
 "nbformat_minor": 0
}
