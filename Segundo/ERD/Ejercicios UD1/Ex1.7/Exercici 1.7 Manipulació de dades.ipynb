{
 "cells": [
  {
   "cell_type": "markdown",
   "metadata": {},
   "source": [
    "# Creació i ús de matrius multidimensionals amb NumPy"
   ]
  },
  {
   "cell_type": "code",
   "execution_count": 2,
   "metadata": {
    "collapsed": true
   },
   "outputs": [],
   "source": [
    "# Importa pandasnumpy com a np."
   ]
  },
  {
   "cell_type": "code",
   "execution_count": 3,
   "metadata": {},
   "outputs": [],
   "source": [
    "import numpy as np\n",
    "import pandas as pd"
   ]
  },
  {
   "cell_type": "code",
   "execution_count": 4,
   "metadata": {
    "collapsed": true
   },
   "outputs": [],
   "source": [
    "# A) crea una matriu de tres matrius que contenen cinc elements cadascuna o \n",
    "# B) crea una matriu de cinc matrius que contenen tres elements cadascuna?"
   ]
  },
  {
   "cell_type": "code",
   "execution_count": 5,
   "metadata": {},
   "outputs": [
    {
     "name": "stdout",
     "output_type": "stream",
     "text": [
      "[[9 5 1 8 3]\n",
      " [5 5 8 3 5]\n",
      " [9 3 7 1 6]]\n"
     ]
    }
   ],
   "source": [
    "# Solució A\n",
    "matriz3x5 = np.random.randint(1, 10, size=(3, 5))\n",
    "print(matriz3x5)"
   ]
  },
  {
   "cell_type": "code",
   "execution_count": 6,
   "metadata": {},
   "outputs": [
    {
     "name": "stdout",
     "output_type": "stream",
     "text": [
      "[[5 6 4]\n",
      " [5 9 7]\n",
      " [4 2 1]\n",
      " [3 3 9]\n",
      " [3 9 6]]\n"
     ]
    }
   ],
   "source": [
    "matriz5x3 = np.random.randint(1, 10, size=(5, 3))\n",
    "print(matriz5x3)"
   ]
  },
  {
   "cell_type": "code",
   "execution_count": 7,
   "metadata": {},
   "outputs": [
    {
     "name": "stdout",
     "output_type": "stream",
     "text": [
      "7\n"
     ]
    }
   ],
   "source": [
    "#Considera una matriu anomenada “myarray” que es mostra com al bloc següent. \n",
    "# Quin valor retorna el codi myarray[1,2]? A) 10 B) 7.\n",
    "myarray = matriz5x3\n",
    "print(myarray[1,2])\n"
   ]
  },
  {
   "cell_type": "code",
   "execution_count": 8,
   "metadata": {},
   "outputs": [],
   "source": [
    "# Solució:\n",
    "\n",
    "#Mostra un 7. Novament, primer s’indexa el valor de la “fila” i després el valor de la “columna” (o la matriu externa i la matriu interna,\n",
    "#  si prefereixes pensar-ho així).\n",
    "# Com que els índexs comencen en zero, myarray[1,2] mostra un valor de la segona fila, tercera columna, és a dir, 7.\n"
   ]
  },
  {
   "cell_type": "code",
   "execution_count": 9,
   "metadata": {},
   "outputs": [
    {
     "data": {
      "text/plain": [
       "2"
      ]
     },
     "execution_count": 9,
     "metadata": {},
     "output_type": "execute_result"
    }
   ],
   "source": [
    "# Donada myarray com es mostra més amunt, quin és el valor de myarray.ndim?\n",
    "myarray.ndim"
   ]
  },
  {
   "cell_type": "code",
   "execution_count": null,
   "metadata": {},
   "outputs": [],
   "source": []
  },
  {
   "cell_type": "code",
   "execution_count": 10,
   "metadata": {},
   "outputs": [],
   "source": [
    "# Una matriu de tres matrius de quatre elements cadascuna com aquesta té dotze elements.\n",
    "# Com podries crear una nova matriu composta de dues matrius de sis elements cadascuna?"
   ]
  },
  {
   "cell_type": "code",
   "execution_count": 11,
   "metadata": {},
   "outputs": [
    {
     "name": "stdout",
     "output_type": "stream",
     "text": [
      "[[7 4 8 2 1 5]\n",
      " [1 5 3 7 9 3]]\n"
     ]
    }
   ],
   "source": [
    "matriz2x6 = np.random.randint(1, 10, size=(2, 6))\n",
    "print(matriz2x6)"
   ]
  },
  {
   "cell_type": "code",
   "execution_count": 12,
   "metadata": {},
   "outputs": [],
   "source": [
    "# Donada new_array de l’últim exercici, i el codi x = new_array, executes el codi:"
   ]
  },
  {
   "cell_type": "code",
   "execution_count": 13,
   "metadata": {},
   "outputs": [
    {
     "name": "stdout",
     "output_type": "stream",
     "text": [
      "42\n",
      "42\n"
     ]
    }
   ],
   "source": [
    "# Solució A\n",
    "x = matriz2x6\n",
    "x[0,0] = 42\n",
    "print(x[0,0])  # Mira si new_array ha canviat\n",
    "print(matriz2x6[0,0])  # Mira si matriz2x6 ha canviat\n"
   ]
  },
  {
   "cell_type": "code",
   "execution_count": 14,
   "metadata": {},
   "outputs": [],
   "source": [
    "# Com podries crear una matriu bidimensional de 3 x 4 (tres matrius de quatre elements cadascuna) amb nombres aleatoris de l’1 al 10?"
   ]
  },
  {
   "cell_type": "code",
   "execution_count": 15,
   "metadata": {},
   "outputs": [],
   "source": [
    "matriz4x3 = np.random.randint(1, 10, size=(4, 3))"
   ]
  },
  {
   "cell_type": "code",
   "execution_count": 16,
   "metadata": {},
   "outputs": [],
   "source": [
    "#Com podries crear una matriu de la mateixa mida i forma que l'exercici anterior, plena de zeros enters de 64 bits?"
   ]
  },
  {
   "cell_type": "code",
   "execution_count": 17,
   "metadata": {},
   "outputs": [
    {
     "name": "stdout",
     "output_type": "stream",
     "text": [
      "[[0 0 0]\n",
      " [0 0 0]\n",
      " [0 0 0]\n",
      " [0 0 0]]\n"
     ]
    }
   ],
   "source": [
    "matriz_zeros = np.zeros((4, 3), dtype=np.int64)\n",
    "print(matriz_zeros)"
   ]
  }
 ],
 "metadata": {
  "kernelspec": {
   "display_name": "Python 3",
   "language": "python",
   "name": "python3"
  },
  "language_info": {
   "codemirror_mode": {
    "name": "ipython",
    "version": 3
   },
   "file_extension": ".py",
   "mimetype": "text/x-python",
   "name": "python",
   "nbconvert_exporter": "python",
   "pygments_lexer": "ipython3",
   "version": "3.13.4"
  }
 },
 "nbformat": 4,
 "nbformat_minor": 0
}
