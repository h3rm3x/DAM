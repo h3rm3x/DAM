{
 "cells": [
  {
   "cell_type": "markdown",
   "metadata": {},
   "source": [
    "# Combinació de Datasets amb merge() i Joins"
   ]
  },
  {
   "cell_type": "code",
   "execution_count": null,
   "metadata": {
    "collapsed": true
   },
   "outputs": [],
   "source": [
    "# Importa pandas com a pd i numpy com a np."
   ]
  },
  {
   "cell_type": "code",
   "execution_count": null,
   "metadata": {},
   "outputs": [],
   "source": [
    "import pandas as pd\n",
    "import numpy as np"
   ]
  },
  {
   "cell_type": "code",
   "execution_count": null,
   "metadata": {
    "collapsed": true
   },
   "outputs": [],
   "source": [
    "# Crea el primer DataFrame df_left amb la informació següent:\n",
    "\n",
    "# key A   B\n",
    "# K0  A0  B0\n",
    "# K1  A1  B1\n",
    "# K2  A2  B2\n",
    "# K3  A3  B3\n",
    "\n"
   ]
  },
  {
   "cell_type": "code",
   "execution_count": null,
   "metadata": {},
   "outputs": [
    {
     "name": "stdout",
     "output_type": "stream",
     "text": [
      "  key   A   B\n",
      "0  K0  A0  B0\n",
      "1  K1  A1  B1\n",
      "2  K2  A2  B2\n",
      "3  K3  A3  B3\n"
     ]
    }
   ],
   "source": []
  },
  {
   "cell_type": "code",
   "execution_count": null,
   "metadata": {},
   "outputs": [],
   "source": [
    "# Crea el segon DataFrame df_right amb la informació següent:\n",
    "# key C   D\n",
    "# K0  C0  D0\n",
    "# K1  C1  D1\n",
    "# K2  C2  D2\n",
    "# K4  C3  D3\n",
    "\n"
   ]
  },
  {
   "cell_type": "code",
   "execution_count": null,
   "metadata": {},
   "outputs": [
    {
     "name": "stdout",
     "output_type": "stream",
     "text": [
      "  key   C   D\n",
      "0  K0  C0  D0\n",
      "1  K1  C1  D1\n",
      "2  K2  C2  D2\n",
      "3  K4  C3  D3\n"
     ]
    }
   ],
   "source": []
  },
  {
   "cell_type": "code",
   "execution_count": null,
   "metadata": {},
   "outputs": [],
   "source": [
    "# Fes un merge entre df_left i df_right usant la columna key amb el tipus d’unió 'inner'."
   ]
  },
  {
   "cell_type": "code",
   "execution_count": null,
   "metadata": {},
   "outputs": [
    {
     "name": "stdout",
     "output_type": "stream",
     "text": [
      "Merge inner:\n",
      "   key   A   B   C   D\n",
      "0  K0  A0  B0  C0  D0\n",
      "1  K1  A1  B1  C1  D1\n",
      "2  K2  A2  B2  C2  D2 \n",
      "\n"
     ]
    }
   ],
   "source": [
    "\n"
   ]
  },
  {
   "cell_type": "code",
   "execution_count": null,
   "metadata": {},
   "outputs": [],
   "source": [
    "# Fes el mateix merge però amb el tipus 'outer'."
   ]
  },
  {
   "cell_type": "code",
   "execution_count": null,
   "metadata": {},
   "outputs": [
    {
     "name": "stdout",
     "output_type": "stream",
     "text": [
      "Merge outer:\n",
      "   key    A    B    C    D\n",
      "0  K0   A0   B0   C0   D0\n",
      "1  K1   A1   B1   C1   D1\n",
      "2  K2   A2   B2   C2   D2\n",
      "3  K3   A3   B3  NaN  NaN\n",
      "4  K4  NaN  NaN   C3   D3 \n",
      "\n"
     ]
    }
   ],
   "source": [
    "\n"
   ]
  },
  {
   "cell_type": "code",
   "execution_count": null,
   "metadata": {},
   "outputs": [],
   "source": [
    "# Fes un merge amb el tipus 'left'."
   ]
  },
  {
   "cell_type": "code",
   "execution_count": null,
   "metadata": {},
   "outputs": [
    {
     "name": "stdout",
     "output_type": "stream",
     "text": [
      "Merge left:\n",
      "   key   A   B    C    D\n",
      "0  K0  A0  B0   C0   D0\n",
      "1  K1  A1  B1   C1   D1\n",
      "2  K2  A2  B2   C2   D2\n",
      "3  K3  A3  B3  NaN  NaN \n",
      "\n"
     ]
    }
   ],
   "source": [
    "\n"
   ]
  },
  {
   "cell_type": "code",
   "execution_count": null,
   "metadata": {},
   "outputs": [],
   "source": [
    "# Fes un merge amb el tipus 'right'."
   ]
  },
  {
   "cell_type": "code",
   "execution_count": null,
   "metadata": {},
   "outputs": [
    {
     "name": "stdout",
     "output_type": "stream",
     "text": [
      "Merge right:\n",
      "   key    A    B   C   D\n",
      "0  K0   A0   B0  C0  D0\n",
      "1  K1   A1   B1  C1  D1\n",
      "2  K2   A2   B2  C2  D2\n",
      "3  K4  NaN  NaN  C3  D3 \n",
      "\n"
     ]
    }
   ],
   "source": [
    "\n"
   ]
  },
  {
   "cell_type": "code",
   "execution_count": null,
   "metadata": {},
   "outputs": [],
   "source": [
    "# Crea dos nous DataFrames amb noms de columnes diferents per practicar la fusió amb claus diferents:\n",
    "\n",
    "# df_left2\n",
    "# key_left  E   F\n",
    "# K0        E0  F0\n",
    "# K1        E1  F1\n",
    "# K2        E2  F2\n",
    "\n",
    "# key_right G   H\n",
    "# K1        G1  H1\n",
    "# K2        G2  H2\n",
    "# K3        G3  H3\n",
    "\n"
   ]
  },
  {
   "cell_type": "code",
   "execution_count": null,
   "metadata": {},
   "outputs": [
    {
     "name": "stdout",
     "output_type": "stream",
     "text": [
      "Merge amb claus diferents:\n",
      "   key_left    E    F key_right    G    H\n",
      "0       K0   E0   F0       NaN  NaN  NaN\n",
      "1       K1   E1   F1        K1   G1   H1\n",
      "2       K2   E2   F2        K2   G2   H2\n",
      "3      NaN  NaN  NaN        K3   G3   H3 \n",
      "\n"
     ]
    }
   ],
   "source": [
    "\n",
    "\n"
   ]
  },
  {
   "cell_type": "code",
   "execution_count": null,
   "metadata": {},
   "outputs": [],
   "source": [
    "# Fes un merge múltiple:\n",
    "\n",
    "# Usa df_left, df_right i un tercer DataFrame df_extra amb columnes key, E, F.\n",
    "# Uneix els tres per tenir totes les columnes en un únic DataFrame final."
   ]
  },
  {
   "cell_type": "code",
   "execution_count": null,
   "metadata": {},
   "outputs": [
    {
     "name": "stdout",
     "output_type": "stream",
     "text": [
      "Merge múltiple:\n",
      "   key    A    B    C    D    E    F\n",
      "0  K0   A0   B0   C0   D0  NaN  NaN\n",
      "1  K1   A1   B1   C1   D1   E1   F1\n",
      "2  K2   A2   B2   C2   D2  NaN  NaN\n",
      "3  K3   A3   B3  NaN  NaN   E3   F3\n",
      "4  K4  NaN  NaN   C3   D3   E4   F4 \n",
      "\n"
     ]
    }
   ],
   "source": [
    "\n"
   ]
  },
  {
   "cell_type": "code",
   "execution_count": null,
   "metadata": {},
   "outputs": [],
   "source": [
    "# Afegeix una nova columna source a cada DataFrame (\"left\", \"right\", \"extra\") abans de combinar-los.\n",
    "# Usa el paràmetre keys per identificar la procedència en un MultiIndex després de concatenar-los amb pd.concat."
   ]
  },
  {
   "cell_type": "code",
   "execution_count": null,
   "metadata": {},
   "outputs": [
    {
     "name": "stdout",
     "output_type": "stream",
     "text": [
      "Concatenació amb MultiIndex:\n",
      "         key    A    B source    C    D    E    F\n",
      "left  0  K0   A0   B0   left  NaN  NaN  NaN  NaN\n",
      "      1  K1   A1   B1   left  NaN  NaN  NaN  NaN\n",
      "      2  K2   A2   B2   left  NaN  NaN  NaN  NaN\n",
      "      3  K3   A3   B3   left  NaN  NaN  NaN  NaN\n",
      "right 0  K0  NaN  NaN  right   C0   D0  NaN  NaN\n",
      "      1  K1  NaN  NaN  right   C1   D1  NaN  NaN\n",
      "      2  K2  NaN  NaN  right   C2   D2  NaN  NaN\n",
      "      3  K4  NaN  NaN  right   C3   D3  NaN  NaN\n",
      "extra 0  K1  NaN  NaN  extra  NaN  NaN   E1   F1\n",
      "      1  K3  NaN  NaN  extra  NaN  NaN   E3   F3\n",
      "      2  K4  NaN  NaN  extra  NaN  NaN   E4   F4\n"
     ]
    }
   ],
   "source": [
    "\n"
   ]
  }
 ],
 "metadata": {
  "kernelspec": {
   "display_name": "Python 3",
   "language": "python",
   "name": "python3"
  },
  "language_info": {
   "codemirror_mode": {
    "name": "ipython",
    "version": 3
   },
   "file_extension": ".py",
   "mimetype": "text/x-python",
   "name": "python",
   "nbconvert_exporter": "python",
   "pygments_lexer": "ipython3",
   "version": "3.11.9"
  }
 },
 "nbformat": 4,
 "nbformat_minor": 0
}
