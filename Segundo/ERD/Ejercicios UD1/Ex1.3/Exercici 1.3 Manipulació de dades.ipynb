{
  "cells": [
    {
      "cell_type": "markdown",
      "metadata": {
        "id": "pcW2V_AiK0sb"
      },
      "source": [
        "# Exercici\n",
        "\n",
        "El fitxer [`cotizacion.csv`](cotizacion.csv) conté les cotitzacions de les empreses de l’IBEX35 amb les columnes següents: `nom` (nom de l’empresa), `Final` (preu de l’acció al tancament de la borsa), `Màxim` (preu màxim de l’acció durant la jornada), `Mínim` (preu mínim de l’acció durant la jornada), `volum` (volum al tancament de la borsa) i `Efectiu` (capitalització al tancament en milers d’euros). Construeix una funció que construeixi un DataFrame a partir d’un fitxer amb el format anterior i retorni un altre DataFrame amb el mínim, el màxim i la mitjana de cada columna."
      ]
    },
    {
      "cell_type": "code",
      "execution_count": null,
      "metadata": {
        "id": "WhtW0P-LK0sd"
      },
      "outputs": [],
      "source": []
    }
  ],
  "metadata": {
    "colab": {
      "provenance": []
    },
    "kernelspec": {
      "display_name": "Python 3",
      "language": "python",
      "name": "python3"
    },
    "language_info": {
      "codemirror_mode": {
        "name": "ipython",
        "version": 3
      },
      "file_extension": ".py",
      "mimetype": "text/x-python",
      "name": "python",
      "nbconvert_exporter": "python",
      "pygments_lexer": "ipython3",
      "version": "3.7.6-final"
    }
  },
  "nbformat": 4,
  "nbformat_minor": 0
}
