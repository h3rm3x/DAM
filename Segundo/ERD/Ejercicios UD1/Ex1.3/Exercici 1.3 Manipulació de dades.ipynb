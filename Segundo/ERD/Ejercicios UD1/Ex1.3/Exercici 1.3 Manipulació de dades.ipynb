{
  "cells": [
    {
      "cell_type": "markdown",
      "metadata": {
        "id": "pcW2V_AiK0sb"
      },
      "source": [
        "# Exercici\n",
        "\n",
        "El fitxer [`cotizacion.csv`](cotizacion.csv) conté les cotitzacions de les empreses de l’IBEX35 amb les columnes següents: `nom` (nom de l’empresa), `Final` (preu de l’acció al tancament de la borsa), `Màxim` (preu màxim de l’acció durant la jornada), `Mínim` (preu mínim de l’acció durant la jornada), `volum` (volum al tancament de la borsa) i `Efectiu` (capitalització al tancament en milers d’euros). Construeix una funció que construeixi un DataFrame a partir d’un fitxer amb el format anterior i retorni un altre DataFrame amb el mínim, el màxim i la mitjana de cada columna."
      ]
    },
    {
      "cell_type": "code",
      "execution_count": null,
      "metadata": {
        "id": "WhtW0P-LK0sd"
      },
      "outputs": [
        {
          "ename": "AttributeError",
          "evalue": "'numpy.float64' object has no attribute '__len__'",
          "output_type": "error",
          "traceback": [
            "\u001b[31m---------------------------------------------------------------------------\u001b[39m",
            "\u001b[31mAttributeError\u001b[39m                            Traceback (most recent call last)",
            "\u001b[36mCell\u001b[39m\u001b[36m \u001b[39m\u001b[32mIn[1]\u001b[39m\u001b[32m, line 8\u001b[39m\n\u001b[32m      5\u001b[39m ibex_35[\u001b[33m\"\u001b[39m\u001b[33mFinal\u001b[39m\u001b[33m\"\u001b[39m] = ibex_35[\u001b[33m\"\u001b[39m\u001b[33mFinal\u001b[39m\u001b[33m\"\u001b[39m].str.replace(\u001b[33m\"\u001b[39m\u001b[33m,\u001b[39m\u001b[33m\"\u001b[39m, \u001b[33m\"\u001b[39m\u001b[33m.\u001b[39m\u001b[33m\"\u001b[39m).astype(\u001b[38;5;28mfloat\u001b[39m)\n\u001b[32m      7\u001b[39m \u001b[38;5;28;01mfor\u001b[39;00m i \u001b[38;5;129;01min\u001b[39;00m \u001b[38;5;28mrange\u001b[39m(\u001b[38;5;28mlen\u001b[39m(ibex_35)):\n\u001b[32m----> \u001b[39m\u001b[32m8\u001b[39m     \u001b[38;5;28;01mfor\u001b[39;00m j \u001b[38;5;129;01min\u001b[39;00m \u001b[38;5;28mrange\u001b[39m(\u001b[43mibex_35\u001b[49m\u001b[43m[\u001b[49m\u001b[33;43m\"\u001b[39;49m\u001b[33;43mFinal\u001b[39;49m\u001b[33;43m\"\u001b[39;49m\u001b[43m]\u001b[49m\u001b[43m[\u001b[49m\u001b[43mi\u001b[49m\u001b[43m]\u001b[49m\u001b[43m.\u001b[49m\u001b[34;43m__len__\u001b[39;49m()):\n\u001b[32m      9\u001b[39m         \u001b[38;5;28;01mif\u001b[39;00m ibex_35[\u001b[33m\"\u001b[39m\u001b[33mFinal\u001b[39m\u001b[33m\"\u001b[39m][i][j] == \u001b[33m\"\u001b[39m\u001b[33m.\u001b[39m\u001b[33m\"\u001b[39m:\n\u001b[32m     10\u001b[39m             \u001b[38;5;28;01mfor\u001b[39;00m k \u001b[38;5;129;01min\u001b[39;00m \u001b[38;5;28mrange\u001b[39m(j + \u001b[32m1\u001b[39m, ibex_35[\u001b[33m\"\u001b[39m\u001b[33mFinal\u001b[39m\u001b[33m\"\u001b[39m][i].\u001b[34m__len__\u001b[39m()):\n",
            "\u001b[31mAttributeError\u001b[39m: 'numpy.float64' object has no attribute '__len__'"
          ]
        }
      ],
      "source": [
        "import pandas as pd\n",
        "import numpy as np\n",
        "\n",
        "ibex_35 = pd.read_csv(\"cotizacion.csv\", sep=\";\", header=0, names=[\"Nombre\", \"Final\", \"Maximo\", \"Minimo\", \"Volumen\", \"Efectivo\"])\n",
        "ibex_35[\"Final\"] = ibex_35[\"Final\"].str.replace(\",\", \".\").astype(float)\n",
        "\n",
        "for i in range(len(ibex_35)):\n"
      ]
    }
  ],
  "metadata": {
    "colab": {
      "provenance": []
    },
    "kernelspec": {
      "display_name": "Python 3",
      "language": "python",
      "name": "python3"
    },
    "language_info": {
      "codemirror_mode": {
        "name": "ipython",
        "version": 3
      },
      "file_extension": ".py",
      "mimetype": "text/x-python",
      "name": "python",
      "nbconvert_exporter": "python",
      "pygments_lexer": "ipython3",
      "version": "3.13.4"
    }
  },
  "nbformat": 4,
  "nbformat_minor": 0
}
